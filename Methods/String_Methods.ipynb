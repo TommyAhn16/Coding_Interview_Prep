{
  "nbformat": 4,
  "nbformat_minor": 0,
  "metadata": {
    "colab": {
      "name": "String-Methods.ipynb",
      "provenance": [],
      "collapsed_sections": [],
      "authorship_tag": "ABX9TyOqInZGs2w+d1qfTIpDbb5Y",
      "include_colab_link": true
    },
    "kernelspec": {
      "name": "python3",
      "display_name": "Python 3"
    }
  },
  "cells": [
    {
      "cell_type": "markdown",
      "metadata": {
        "id": "view-in-github",
        "colab_type": "text"
      },
      "source": [
        "<a href=\"https://colab.research.google.com/github/TommyAhn16/Coding_Interview_Prep/blob/main/Methods/String_Methods.ipynb\" target=\"_parent\"><img src=\"https://colab.research.google.com/assets/colab-badge.svg\" alt=\"Open In Colab\"/></a>"
      ]
    },
    {
      "cell_type": "markdown",
      "metadata": {
        "id": "j571MVH32X9n"
      },
      "source": [
        "# str.join (iterable)\n",
        "- return: string of joined elements in iteralbes (raise error if elements are not strings). \n",
        "- The separator between elements is the string providing this method."
      ]
    },
    {
      "cell_type": "code",
      "metadata": {
        "id": "y79ayquu2lQa"
      },
      "source": [
        "some_list = ['A', 'B', 'C']"
      ],
      "execution_count": null,
      "outputs": []
    },
    {
      "cell_type": "code",
      "metadata": {
        "colab": {
          "base_uri": "https://localhost:8080/",
          "height": 35
        },
        "id": "F0dEEeib3SND",
        "outputId": "6d1d9c33-2602-4128-c085-92061bbee46b"
      },
      "source": [
        "\"\".join(some_list)"
      ],
      "execution_count": null,
      "outputs": [
        {
          "output_type": "execute_result",
          "data": {
            "application/vnd.google.colaboratory.intrinsic+json": {
              "type": "string"
            },
            "text/plain": [
              "'ABC'"
            ]
          },
          "metadata": {
            "tags": []
          },
          "execution_count": 7
        }
      ]
    },
    {
      "cell_type": "code",
      "metadata": {
        "colab": {
          "base_uri": "https://localhost:8080/",
          "height": 35
        },
        "id": "y1ZDhLCV3Vq5",
        "outputId": "9b845eab-47ee-4adc-94cd-f40f64baa427"
      },
      "source": [
        "\", \".join(some_list)"
      ],
      "execution_count": null,
      "outputs": [
        {
          "output_type": "execute_result",
          "data": {
            "application/vnd.google.colaboratory.intrinsic+json": {
              "type": "string"
            },
            "text/plain": [
              "'A, B, C'"
            ]
          },
          "metadata": {
            "tags": []
          },
          "execution_count": 9
        }
      ]
    },
    {
      "cell_type": "markdown",
      "metadata": {
        "id": "y7Bf5j8a30T2"
      },
      "source": [
        "# str.split(sep=\" \", maxsplit=-1) \n",
        "- return: a **list** of the words in the string, using sep as the delimiter string."
      ]
    },
    {
      "cell_type": "code",
      "metadata": {
        "id": "kAE--bqp38m2"
      },
      "source": [
        "sentence = \"I like cats and dogs\""
      ],
      "execution_count": null,
      "outputs": []
    },
    {
      "cell_type": "code",
      "metadata": {
        "colab": {
          "base_uri": "https://localhost:8080/"
        },
        "id": "wyPfOLt74C0S",
        "outputId": "316d7a21-8745-4e77-cded-af7ac4b5d318"
      },
      "source": [
        "sentence.split()"
      ],
      "execution_count": null,
      "outputs": [
        {
          "output_type": "execute_result",
          "data": {
            "text/plain": [
              "['I', 'like', 'cats', 'and', 'dogs']"
            ]
          },
          "metadata": {
            "tags": []
          },
          "execution_count": 12
        }
      ]
    },
    {
      "cell_type": "code",
      "metadata": {
        "colab": {
          "base_uri": "https://localhost:8080/"
        },
        "id": "7yBsJNMl8pFA",
        "outputId": "1d278272-72d2-4afa-f317-6e994014b4bb"
      },
      "source": [
        "sentence.split(\" \", 2)"
      ],
      "execution_count": null,
      "outputs": [
        {
          "output_type": "execute_result",
          "data": {
            "text/plain": [
              "['I', 'like', 'cats']"
            ]
          },
          "metadata": {
            "tags": []
          },
          "execution_count": 25
        }
      ]
    },
    {
      "cell_type": "code",
      "metadata": {
        "id": "3jwvzG704HKz"
      },
      "source": [
        "new_sentence = \"a*b*c*d*e*f\""
      ],
      "execution_count": null,
      "outputs": []
    },
    {
      "cell_type": "code",
      "metadata": {
        "colab": {
          "base_uri": "https://localhost:8080/"
        },
        "id": "s_K8_xCK4ODd",
        "outputId": "384dcfae-06a0-4184-b108-36a74f3ba078"
      },
      "source": [
        "new_sentence.split('*')"
      ],
      "execution_count": null,
      "outputs": [
        {
          "output_type": "execute_result",
          "data": {
            "text/plain": [
              "['a', 'b', 'c', 'd', 'e', 'f']"
            ]
          },
          "metadata": {
            "tags": []
          },
          "execution_count": 18
        }
      ]
    },
    {
      "cell_type": "markdown",
      "metadata": {
        "id": "PKLoi33H4b6i"
      },
      "source": [
        "# str.find(sub, start=0, end=-1)\n",
        "- return: index of where sub is found\n",
        "\n",
        "- return -1 when not found"
      ]
    },
    {
      "cell_type": "code",
      "metadata": {
        "id": "i0C0Ghaj6Mf3"
      },
      "source": [
        "sentence = \"I like cats\""
      ],
      "execution_count": null,
      "outputs": []
    },
    {
      "cell_type": "code",
      "metadata": {
        "colab": {
          "base_uri": "https://localhost:8080/"
        },
        "id": "cEx7L60u6mOa",
        "outputId": "c502f050-a23d-4f89-d73e-7ca062776a7c"
      },
      "source": [
        "sentence.find(\"cats\")"
      ],
      "execution_count": null,
      "outputs": [
        {
          "output_type": "execute_result",
          "data": {
            "text/plain": [
              "7"
            ]
          },
          "metadata": {
            "tags": []
          },
          "execution_count": 20
        }
      ]
    },
    {
      "cell_type": "code",
      "metadata": {
        "colab": {
          "base_uri": "https://localhost:8080/"
        },
        "id": "tno_cP4t6oz7",
        "outputId": "291f2d42-bcbb-46b2-ba44-19109b47703e"
      },
      "source": [
        "sentence.find(\"cats\",0,2)"
      ],
      "execution_count": null,
      "outputs": [
        {
          "output_type": "execute_result",
          "data": {
            "text/plain": [
              "-1"
            ]
          },
          "metadata": {
            "tags": []
          },
          "execution_count": 22
        }
      ]
    },
    {
      "cell_type": "code",
      "metadata": {
        "colab": {
          "base_uri": "https://localhost:8080/"
        },
        "id": "05hNP0PR6zpa",
        "outputId": "368fc562-20d9-40ff-a304-cad5c27c2a33"
      },
      "source": [
        "sentence.find(\"dogs\")"
      ],
      "execution_count": null,
      "outputs": [
        {
          "output_type": "execute_result",
          "data": {
            "text/plain": [
              "-1"
            ]
          },
          "metadata": {
            "tags": []
          },
          "execution_count": 23
        }
      ]
    }
  ]
}