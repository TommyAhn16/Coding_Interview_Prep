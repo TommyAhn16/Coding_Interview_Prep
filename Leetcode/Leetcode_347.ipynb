{
  "nbformat": 4,
  "nbformat_minor": 0,
  "metadata": {
    "colab": {
      "name": "Leetcode_347.ipynb",
      "provenance": [],
      "collapsed_sections": [],
      "authorship_tag": "ABX9TyPyWCjmu0PosdmvMorOfpvo",
      "include_colab_link": true
    },
    "kernelspec": {
      "name": "python3",
      "display_name": "Python 3"
    }
  },
  "cells": [
    {
      "cell_type": "markdown",
      "metadata": {
        "id": "view-in-github",
        "colab_type": "text"
      },
      "source": [
        "<a href=\"https://colab.research.google.com/github/TommyAhn16/Coding_Interview_Prep/blob/main/Leetcode/Leetcode_347.ipynb\" target=\"_parent\"><img src=\"https://colab.research.google.com/assets/colab-badge.svg\" alt=\"Open In Colab\"/></a>"
      ]
    },
    {
      "cell_type": "markdown",
      "metadata": {
        "id": "nrwfVBEXaCxj"
      },
      "source": [
        "# 347. Top K Frequent Elements\n",
        "[link](https://leetcode.com/problems/top-k-frequent-elements/)\n",
        "\n",
        "Given a non-empty array of integers, return the k most frequent elements.\n",
        "\n",
        "```\n",
        "Input: nums = [1,1,1,2,2,3], k = 2\n",
        "Output: [1,2]\n",
        "```\n",
        "\n"
      ]
    },
    {
      "cell_type": "markdown",
      "metadata": {
        "id": "9nXwaMm6bk2m"
      },
      "source": [
        "- Tags: Hash table\n",
        "- Approach: Counter method"
      ]
    },
    {
      "cell_type": "markdown",
      "metadata": {
        "id": "iZUWbAsqeUUm"
      },
      "source": [
        "## Expected input & output"
      ]
    },
    {
      "cell_type": "code",
      "metadata": {
        "id": "Y-jZ0PKPbzc-"
      },
      "source": [
        "# input\n",
        "nums = [1,1,1,2,2,3]\n",
        "k = 2\n",
        "\n",
        "# expected output\n",
        "output = [1,2]"
      ],
      "execution_count": 2,
      "outputs": []
    },
    {
      "cell_type": "markdown",
      "metadata": {
        "id": "SigMz2YBeY9V"
      },
      "source": [
        "## Solution function"
      ]
    },
    {
      "cell_type": "markdown",
      "metadata": {
        "id": "JTIZYrHme4d0"
      },
      "source": [
        "### 1. Using Counter.most_common(n) method\n"
      ]
    },
    {
      "cell_type": "code",
      "metadata": {
        "id": "CfJP6NbTdcEH"
      },
      "source": [
        "import collections\n",
        "def topKFrequent(nums, k):\n",
        "        ans = []\n",
        "        common_k = collections.Counter(nums).most_common(k)\n",
        "        for c in common_k:\n",
        "          ans.append(c[0])\n",
        "        return ans"
      ],
      "execution_count": 10,
      "outputs": []
    },
    {
      "cell_type": "markdown",
      "metadata": {
        "id": "poHYYDmhen80"
      },
      "source": [
        "## Result"
      ]
    },
    {
      "cell_type": "code",
      "metadata": {
        "colab": {
          "base_uri": "https://localhost:8080/"
        },
        "id": "Ejns7k2FegS_",
        "outputId": "4eaaefa7-a1a9-4ebd-cba8-a98589b83ba7"
      },
      "source": [
        "output == topKFrequent(nums, k)"
      ],
      "execution_count": 12,
      "outputs": [
        {
          "output_type": "execute_result",
          "data": {
            "text/plain": [
              "True"
            ]
          },
          "metadata": {
            "tags": []
          },
          "execution_count": 12
        }
      ]
    },
    {
      "cell_type": "markdown",
      "metadata": {
        "id": "Db7elhlFepdJ"
      },
      "source": [
        "# Notes & practice"
      ]
    },
    {
      "cell_type": "code",
      "metadata": {
        "colab": {
          "base_uri": "https://localhost:8080/"
        },
        "id": "KlA6OPtLdjXj",
        "outputId": "d6209e3e-a922-47d5-e1e3-168f8922fbbc"
      },
      "source": [
        "collections.Counter(nums).most_common(2)"
      ],
      "execution_count": 9,
      "outputs": [
        {
          "output_type": "execute_result",
          "data": {
            "text/plain": [
              "[(1, 3), (2, 2)]"
            ]
          },
          "metadata": {
            "tags": []
          },
          "execution_count": 9
        }
      ]
    },
    {
      "cell_type": "code",
      "metadata": {
        "colab": {
          "base_uri": "https://localhost:8080/"
        },
        "id": "MGgogEAwdxml",
        "outputId": "8c0c1ee7-aade-44ff-8d6a-a193f47c3a24"
      },
      "source": [
        "print(topKFrequent(nums, k))"
      ],
      "execution_count": 11,
      "outputs": [
        {
          "output_type": "stream",
          "text": [
            "[1, 2]\n"
          ],
          "name": "stdout"
        }
      ]
    },
    {
      "cell_type": "code",
      "metadata": {
        "colab": {
          "base_uri": "https://localhost:8080/"
        },
        "id": "68sQ9yKegeXn",
        "outputId": "e9d520bd-01de-438a-9d8e-f02fc73dd3a2"
      },
      "source": [
        "print(\"hello\")"
      ],
      "execution_count": 13,
      "outputs": [
        {
          "output_type": "stream",
          "text": [
            "hello\n"
          ],
          "name": "stdout"
        }
      ]
    },
    {
      "cell_type": "code",
      "metadata": {
        "id": "-V8D7TDqggH0"
      },
      "source": [
        ""
      ],
      "execution_count": null,
      "outputs": []
    }
  ]
}